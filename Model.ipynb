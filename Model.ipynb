{
 "cells": [
  {
   "cell_type": "markdown",
   "metadata": {},
   "source": [
    "### Model Exercises\n",
    "\n",
    "The end result of this exercise should be a Jupyter notebook named model.\n",
    "\n",
    "Using saas.csv or log data from API usage or store_item_sales"
   ]
  },
  {
   "cell_type": "code",
   "execution_count": 5,
   "metadata": {},
   "outputs": [],
   "source": [
    "import numpy as np\n",
    "import pandas as pd\n",
    "\n",
    "#working with dates/tsa\n",
    "from datetime import datetime\n",
    "import statsmodels.api as sm\n",
    "from statsmodels.tsa.api import Holt\n",
    "\n",
    "# evaluate performance using rmse\n",
    "from sklearn.metrics import mean_squared_error\n",
    "from math import sqrt\n",
    "\n",
    "#for visualization\n",
    "import matplotlib.pyplot as plt\n",
    "%matplotlib inline\n",
    "import seaborn as sns\n",
    "from pandas.plotting import register_matplotlib_converters\n",
    "\n",
    "# turn off warning boxes for presentation purposes\n",
    "import warnings\n",
    "warnings.filterwarnings(\"ignore\")"
   ]
  },
  {
   "cell_type": "code",
   "execution_count": 3,
   "metadata": {},
   "outputs": [
    {
     "name": "stdout",
     "output_type": "stream",
     "text": [
      "<class 'pandas.core.frame.DataFrame'>\n",
      "RangeIndex: 645675 entries, 0 to 645674\n",
      "Data columns (total 5 columns):\n",
      " #   Column                         Non-Null Count   Dtype  \n",
      "---  ------                         --------------   -----  \n",
      " 0   dt                             645675 non-null  object \n",
      " 1   AverageTemperature             620027 non-null  float64\n",
      " 2   AverageTemperatureUncertainty  620027 non-null  float64\n",
      " 3   State                          645675 non-null  object \n",
      " 4   Country                        645675 non-null  object \n",
      "dtypes: float64(2), object(3)\n",
      "memory usage: 24.6+ MB\n"
     ]
    }
   ],
   "source": [
    "# read csv to a dataframe\n",
    "df = pd.read_csv('GlobalLandTemperaturesbyState.csv')\n",
    "\n",
    "#look at initial rows, transposed\n",
    "df.head().T\n",
    "df.info()\n"
   ]
  },
  {
   "cell_type": "code",
   "execution_count": 6,
   "metadata": {},
   "outputs": [
    {
     "name": "stdout",
     "output_type": "stream",
     "text": [
      "<class 'pandas.core.frame.DataFrame'>\n",
      "Int64Index: 2325 entries, 549727 to 552051\n",
      "Data columns (total 5 columns):\n",
      " #   Column                         Non-Null Count  Dtype  \n",
      "---  ------                         --------------  -----  \n",
      " 0   dt                             2325 non-null   object \n",
      " 1   AverageTemperature             2325 non-null   float64\n",
      " 2   AverageTemperatureUncertainty  2325 non-null   float64\n",
      " 3   State                          2325 non-null   object \n",
      " 4   Country                        2325 non-null   object \n",
      "dtypes: float64(2), object(3)\n",
      "memory usage: 109.0+ KB\n"
     ]
    }
   ],
   "source": [
    "df.info()"
   ]
  },
  {
   "cell_type": "markdown",
   "metadata": {},
   "source": [
    "#### Takeaways for Prepping Data: \n",
    "1. dt to datetime\n",
    "2. set index\n",
    "3. sort values by date\n",
    "4. keep only City of San Antonio data\n",
    "5. drop unnecessary columns (Texas and US)\n"
   ]
  },
  {
   "cell_type": "code",
   "execution_count": 8,
   "metadata": {},
   "outputs": [],
   "source": [
    "def wrangle_txtemps():\n",
    "    \n",
    "    '''\n",
    "    This function reads the Global Land Temperatures by State data from csv \n",
    "    into a data frame. It removes data for all other states except Texas, renames \n",
    "    the dt column to \"Date\", converts Date to datetime object, sorts it by date and \n",
    "    sets Date as the index of the dataframe. Unnecessary columns of State and\n",
    "    Country are removed and a dataframe with only Texas data is returned.\n",
    "    '''\n",
    "    \n",
    "    # read csv to a dataframe\n",
    "    df = pd.read_csv('GlobalLandTemperaturesbyState.csv')\n",
    "    \n",
    "    # keep only Texas data\n",
    "    df = df[df.State == 'Texas']\n",
    "    \n",
    "    #rename dt column to Date\n",
    "    df.rename(columns = {'dt': 'Date'}, inplace = True)\n",
    "    \n",
    "    # convert dt datetime format\n",
    "    df['Date'] = pd.to_datetime(df.Date)\n",
    "    \n",
    "    # sort values by date\n",
    "    df = df.sort_values('Date')\n",
    "    \n",
    "    # set index\n",
    "    df = df.set_index('Date')\n",
    "\n",
    "    # drop unneccesary columns of State and Country\n",
    "    df = df.drop(columns=['State', 'Country'])\n",
    "    \n",
    "    return df\n",
    "    \n"
   ]
  },
  {
   "cell_type": "code",
   "execution_count": 11,
   "metadata": {},
   "outputs": [
    {
     "data": {
      "text/html": [
       "<div>\n",
       "<style scoped>\n",
       "    .dataframe tbody tr th:only-of-type {\n",
       "        vertical-align: middle;\n",
       "    }\n",
       "\n",
       "    .dataframe tbody tr th {\n",
       "        vertical-align: top;\n",
       "    }\n",
       "\n",
       "    .dataframe thead th {\n",
       "        text-align: right;\n",
       "    }\n",
       "</style>\n",
       "<table border=\"1\" class=\"dataframe\">\n",
       "  <thead>\n",
       "    <tr style=\"text-align: right;\">\n",
       "      <th></th>\n",
       "      <th>AverageTemperature</th>\n",
       "      <th>AverageTemperatureUncertainty</th>\n",
       "    </tr>\n",
       "    <tr>\n",
       "      <th>Date</th>\n",
       "      <th></th>\n",
       "      <th></th>\n",
       "    </tr>\n",
       "  </thead>\n",
       "  <tbody>\n",
       "    <tr>\n",
       "      <th>1820-01-01</th>\n",
       "      <td>4.489</td>\n",
       "      <td>3.369</td>\n",
       "    </tr>\n",
       "    <tr>\n",
       "      <th>1820-02-01</th>\n",
       "      <td>9.081</td>\n",
       "      <td>2.873</td>\n",
       "    </tr>\n",
       "  </tbody>\n",
       "</table>\n",
       "</div>"
      ],
      "text/plain": [
       "            AverageTemperature  AverageTemperatureUncertainty\n",
       "Date                                                         \n",
       "1820-01-01               4.489                          3.369\n",
       "1820-02-01               9.081                          2.873"
      ]
     },
     "execution_count": 11,
     "metadata": {},
     "output_type": "execute_result"
    }
   ],
   "source": [
    "df = wrangle_txtemps()\n",
    "df.head(2)"
   ]
  },
  {
   "cell_type": "code",
   "execution_count": 12,
   "metadata": {},
   "outputs": [
    {
     "name": "stdout",
     "output_type": "stream",
     "text": [
      "<class 'pandas.core.frame.DataFrame'>\n",
      "DatetimeIndex: 2325 entries, 1820-01-01 to 2013-09-01\n",
      "Data columns (total 2 columns):\n",
      " #   Column                         Non-Null Count  Dtype  \n",
      "---  ------                         --------------  -----  \n",
      " 0   AverageTemperature             2325 non-null   float64\n",
      " 1   AverageTemperatureUncertainty  2325 non-null   float64\n",
      "dtypes: float64(2)\n",
      "memory usage: 54.5 KB\n"
     ]
    }
   ],
   "source": [
    "# check that for data shape and type and nulls\n",
    "df.info()"
   ]
  },
  {
   "cell_type": "code",
   "execution_count": 7,
   "metadata": {},
   "outputs": [
    {
     "data": {
      "text/plain": [
       "Date\n",
       "2013-09-01    1\n",
       "1886-06-01    1\n",
       "1884-10-01    1\n",
       "1884-09-01    1\n",
       "1884-08-01    1\n",
       "             ..\n",
       "1949-02-01    1\n",
       "1949-01-01    1\n",
       "1948-12-01    1\n",
       "1948-11-01    1\n",
       "1820-01-01    1\n",
       "Length: 2325, dtype: int64"
      ]
     },
     "execution_count": 7,
     "metadata": {},
     "output_type": "execute_result"
    }
   ],
   "source": [
    "# ensure all Date entries are unique (no duplicates) \n",
    "df.value_counts('Date')"
   ]
  },
  {
   "cell_type": "markdown",
   "metadata": {},
   "source": [
    "#### 1. Split data (train/validate/test) and resample by any period, except daily, and aggregate using the sum."
   ]
  },
  {
   "cell_type": "code",
   "execution_count": 14,
   "metadata": {},
   "outputs": [
    {
     "data": {
      "text/plain": [
       "1162"
      ]
     },
     "execution_count": 14,
     "metadata": {},
     "output_type": "execute_result"
    }
   ],
   "source": [
    "# train size will be 50% of the total\n",
    "train_size = int(len(df) * .5)\n",
    "train_size"
   ]
  },
  {
   "cell_type": "code",
   "execution_count": 15,
   "metadata": {},
   "outputs": [
    {
     "data": {
      "text/plain": [
       "697"
      ]
     },
     "execution_count": 15,
     "metadata": {},
     "output_type": "execute_result"
    }
   ],
   "source": [
    "# validate will be 30% of total entries\n",
    "validate_size = int(len(df) * .3)\n",
    "validate_size"
   ]
  },
  {
   "cell_type": "code",
   "execution_count": 16,
   "metadata": {},
   "outputs": [
    {
     "data": {
      "text/plain": [
       "466"
      ]
     },
     "execution_count": 16,
     "metadata": {},
     "output_type": "execute_result"
    }
   ],
   "source": [
    "# test size will be the remaining rows\n",
    "test_size = int(len(df) - train_size - validate_size)\n",
    "test_size"
   ]
  },
  {
   "cell_type": "code",
   "execution_count": 18,
   "metadata": {},
   "outputs": [
    {
     "data": {
      "text/plain": [
       "1859"
      ]
     },
     "execution_count": 18,
     "metadata": {},
     "output_type": "execute_result"
    }
   ],
   "source": [
    "# validate will start at 1162 and go through 1162+697 (train + validate)\n",
    "validate_end_index = train_size + validate_size\n",
    "validate_end_index"
   ]
  },
  {
   "cell_type": "code",
   "execution_count": 19,
   "metadata": {},
   "outputs": [],
   "source": [
    "# use the above values to split our data\n",
    "\n",
    "# train will go from 0 to 1161\n",
    "train = df[: train_size]\n",
    "\n",
    "# validate will go from 1162 to 1858\n",
    "validate = df[train_size:validate_end_index]\n",
    "\n",
    "# test will include 1859 to the end\n",
    "test = df[validate_end_index:]"
   ]
  },
  {
   "cell_type": "code",
   "execution_count": null,
   "metadata": {},
   "outputs": [],
   "source": []
  },
  {
   "cell_type": "markdown",
   "metadata": {},
   "source": [
    "#### 2. Forecast, plot and evaluate using each of the 4 parametric based methods we discussed:\n",
    "- Simple Average\n",
    "- Moving Average\n",
    "- Holt's Linear Trend Model\n",
    "- Based on previous year/month/etc., this is up to you."
   ]
  },
  {
   "cell_type": "code",
   "execution_count": null,
   "metadata": {},
   "outputs": [],
   "source": []
  }
 ],
 "metadata": {
  "kernelspec": {
   "display_name": "Python 3",
   "language": "python",
   "name": "python3"
  },
  "language_info": {
   "codemirror_mode": {
    "name": "ipython",
    "version": 3
   },
   "file_extension": ".py",
   "mimetype": "text/x-python",
   "name": "python",
   "nbconvert_exporter": "python",
   "pygments_lexer": "ipython3",
   "version": "3.8.5"
  }
 },
 "nbformat": 4,
 "nbformat_minor": 4
}
